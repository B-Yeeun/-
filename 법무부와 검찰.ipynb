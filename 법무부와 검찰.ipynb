{
  "nbformat": 4,
  "nbformat_minor": 0,
  "metadata": {
    "colab": {
      "name": "2020-2 포트폴리오",
      "provenance": [],
      "collapsed_sections": [],
      "include_colab_link": true
    },
    "kernelspec": {
      "name": "python3",
      "display_name": "Python 3"
    }
  },
  "cells": [
    {
      "cell_type": "markdown",
      "metadata": {
        "id": "view-in-github",
        "colab_type": "text"
      },
      "source": [
        "<a href=\"https://colab.research.google.com/github/byeeun/bye/blob/main/%EB%B2%95%EB%AC%B4%EB%B6%80%EC%99%80%20%EA%B2%80%EC%B0%B0.ipynb\" target=\"_parent\"><img src=\"https://colab.research.google.com/assets/colab-badge.svg\" alt=\"Open In Colab\"/></a>"
      ]
    },
    {
      "cell_type": "code",
      "metadata": {
        "id": "JkwDdwbgo-Mp",
        "cellView": "form",
        "outputId": "b1a83e11-0a89-40dd-f068-3478da19eb97",
        "colab": {
          "base_uri": "https://localhost:8080/"
        }
      },
      "source": [
        "#@title 환경 준비\n",
        "\n",
        "!pip install konlpy\n",
        "import pandas as pd\n",
        "\n",
        "from IPython.display import clear_output\n",
        "clear_output()\n",
        "\n",
        "print(\"###준비가 완료되었습니다.###\")"
      ],
      "execution_count": null,
      "outputs": [
        {
          "output_type": "stream",
          "text": [
            "###준비가 완료되었습니다.###\n"
          ],
          "name": "stdout"
        }
      ]
    },
    {
      "cell_type": "code",
      "metadata": {
        "id": "_KMWhC7KANGI",
        "outputId": "cd69eaf0-af2e-4037-939e-4941df09a9c3",
        "colab": {
          "base_uri": "https://localhost:8080/",
          "height": 94
        }
      },
      "source": [
        "#@title 데이터 불러오기(탭 \\t 으로 분리)\n",
        "구글드라이브ID = '1rTpYIBkZ6y1gAvEdt-K-anJvYrPY06Io'  #@param {type: \"string\"}\n",
        "파일저장이름 = '\\uAC80\\uCC30\\uCD1D\\uC7A5 60\\uC8FC\\uB144 \\uAE30\\uB150\\uC0AC.txt'  #@param {type: \"string\"}\n",
        "\n",
        "import time\n",
        "start = time.time() # 시작시간\n",
        "\n",
        "# 구글 드라이브 연결을 위한 기본 세팅\n",
        "!pip install -U -q PyDrive\n",
        " \n",
        "from pydrive.auth import GoogleAuth\n",
        "from pydrive.drive import GoogleDrive\n",
        "from google.colab import auth\n",
        "from oauth2client.client import GoogleCredentials\n",
        " \n",
        "# 1. Authenticate and create the PyDrive client.\n",
        "auth.authenticate_user()\n",
        "gauth = GoogleAuth()\n",
        "gauth.credentials = GoogleCredentials.get_application_default()\n",
        "drive = GoogleDrive(gauth)\n",
        "\n",
        "# 문서 ID로 실제 파일 불러오는 법\n",
        "# 실습을 위한 역대 대통령 취임사: 노무현, 이명박, 박근혜, 문재인\n",
        "rawdata_downloaded = drive.CreateFile({'id': 구글드라이브ID})\n",
        "rawdata_downloaded.GetContentFile(파일저장이름)\n",
        "\n",
        "print(파일저장이름+\"을 정상적으로 가져왔습니다.\")\n",
        "\n",
        "import pandas as pd\n",
        "# 파일을 DataFrame으로 전환\n",
        "rawdata = pd.read_csv(파일저장이름, sep=\"\\t\", header=0, encoding='utf-8', engine='python')\n",
        "rawdata.head()"
      ],
      "execution_count": null,
      "outputs": [
        {
          "output_type": "stream",
          "text": [
            "검찰총장 60주년 기념사.txt을 정상적으로 가져왔습니다.\n"
          ],
          "name": "stdout"
        },
        {
          "output_type": "execute_result",
          "data": {
            "text/html": [
              "<div>\n",
              "<style scoped>\n",
              "    .dataframe tbody tr th:only-of-type {\n",
              "        vertical-align: middle;\n",
              "    }\n",
              "\n",
              "    .dataframe tbody tr th {\n",
              "        vertical-align: top;\n",
              "    }\n",
              "\n",
              "    .dataframe thead th {\n",
              "        text-align: right;\n",
              "    }\n",
              "</style>\n",
              "<table border=\"1\" class=\"dataframe\">\n",
              "  <thead>\n",
              "    <tr style=\"text-align: right;\">\n",
              "      <th></th>\n",
              "      <th>id</th>\n",
              "      <th>type</th>\n",
              "      <th>year</th>\n",
              "      <th>text</th>\n",
              "    </tr>\n",
              "  </thead>\n",
              "  <tbody>\n",
              "    <tr>\n",
              "      <th>0</th>\n",
              "      <td>1</td>\n",
              "      <td>임채진</td>\n",
              "      <td>2008</td>\n",
              "      <td>존경하는 김경한 법무부 장관님을 비롯한 내외 귀빈 여러분, 그리고 전국의 검찰 ...</td>\n",
              "    </tr>\n",
              "  </tbody>\n",
              "</table>\n",
              "</div>"
            ],
            "text/plain": [
              "   id type  year                                               text\n",
              "0   1  임채진  2008    존경하는 김경한 법무부 장관님을 비롯한 내외 귀빈 여러분, 그리고 전국의 검찰 ..."
            ]
          },
          "metadata": {
            "tags": []
          },
          "execution_count": 19
        }
      ]
    },
    {
      "cell_type": "code",
      "metadata": {
        "id": "EKF7EUhJ4NPx",
        "cellView": "form",
        "outputId": "bd7c5a7e-d981-4fe7-ff8a-037fba6623e2",
        "colab": {
          "base_uri": "https://localhost:8080/"
        }
      },
      "source": [
        "#@title 형태소 분석 및 저장(파이썬은 0부터 시작!!!)\n",
        "텍스트데이터위치 =   3#@param {type: \"number\"}\n",
        "타입데이터위치 =   1#@param {type: \"number\"}\n",
        "파일저장이름 = '\\uAC80\\uCC30\\uCD1D\\uC7A5 60\\uC8FC\\uB144 \\uAE30\\uB150\\uC0AC.csv'  #@param {type: \"string\"}\n",
        "\n",
        "# 분석하기\n",
        "from itertools import product\n",
        "import numpy as np\n",
        "from konlpy.tag import Okt\n",
        "okt = Okt()\n",
        "\n",
        "segments  = []\n",
        "for index, row in rawdata.iterrows():\n",
        "    textdata = row[텍스트데이터위치]\n",
        "    type = row[타입데이터위치]\n",
        "    words = list(okt.pos(textdata))\n",
        "    words = pd.DataFrame.from_records(words)\n",
        "    words['type'] = type\n",
        "    words['count'] = 1      \n",
        "    segments.append(words)\n",
        "\n",
        "# 단일 데이터프레임 구조로 변환\n",
        "framemerge = pd.concat(segments)\n",
        "\n",
        "# 데이터프레임의 컬럼값 조정\n",
        "framemerge.columns = [\"terms\", \"pos\", \"type\", \"count\"]\n",
        "\n",
        "print(\"##################################################\")\n",
        "print(\"타입별 형태소 추출 결과\")\n",
        "print(framemerge)\n",
        "print(\"##################################################\")\n",
        "\n",
        "# 데이터 정리하기\n",
        "dfwordflag = framemerge.groupby(['terms', 'pos', \"type\"])['count'].sum()\n",
        "\n",
        "# 단일 데이터프레임 구조로 변환\n",
        "dfwordflag = pd.DataFrame(dfwordflag)\n",
        "\n",
        "print(\"##################################################\")\n",
        "print(\"형태소+품사+타입을 기준으로 묶어주기 결과\")\n",
        "print(dfwordflag)\n",
        "print(\"##################################################\")\n",
        "\n",
        "\n",
        "#csv로 출력\n",
        "dfwordflag.to_csv(파일저장이름,header='true', quotechar='\"', encoding='utf-8')\n",
        "\n",
        "print(\"##################################################\")\n",
        "print(\"데이터를 \" + 파일저장이름 + \"로 저장 완료\")\n",
        "print(\"##################################################\")\n"
      ],
      "execution_count": null,
      "outputs": [
        {
          "output_type": "stream",
          "text": [
            "##################################################\n",
            "타입별 형태소 추출 결과\n",
            "      terms          pos type  count\n",
            "0        존경         Noun  임채진      1\n",
            "1        하는         Verb  임채진      1\n",
            "2        김경         Noun  임채진      1\n",
            "3         한         Josa  임채진      1\n",
            "4       법무부         Noun  임채진      1\n",
            "...     ...          ...  ...    ...\n",
            "1702     약속         Noun  임채진      1\n",
            "1703   드립니다         Verb  임채진      1\n",
            "1704      .  Punctuation  임채진      1\n",
            "1705  감사합니다         Verb  임채진      1\n",
            "1706      .  Punctuation  임채진      1\n",
            "\n",
            "[1707 rows x 4 columns]\n",
            "##################################################\n",
            "##################################################\n",
            "형태소+품사+타입을 기준으로 묶어주기 결과\n",
            "                        count\n",
            "terms pos         type       \n",
            "!     Punctuation 임채진       3\n",
            ",     Punctuation 임채진      32\n",
            ".     Punctuation 임채진      67\n",
            "60    Number      임채진       1\n",
            "60년   Number      임채진       2\n",
            "...                       ...\n",
            "획기    Noun        임채진       1\n",
            "효과    Noun        임채진       4\n",
            "효율    Noun        임채진       2\n",
            "힘     Noun        임채진       2\n",
            "힘들    Adjective   임채진       1\n",
            "\n",
            "[692 rows x 1 columns]\n",
            "##################################################\n",
            "##################################################\n",
            "데이터를 검찰총장 60주년 기념사.csv로 저장 완료\n",
            "##################################################\n"
          ],
          "name": "stdout"
        }
      ]
    }
  ]
}